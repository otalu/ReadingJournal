{
 "cells": [
  {
   "cell_type": "markdown",
   "metadata": {},
   "source": [
    "# Day 2 Reading Journal\n",
    "\n",
    "This journal includes several required exercises, but it is meant to encourage active reading more generally.  You should use the journal to take detailed notes, catalog questions, and explore the content from Think Python deeply.\n",
    "\n",
    "Reading: Think Python Chapter 6.1-6.4, 7\n",
    "\n",
    "**Due: Tuesday, January 24 at 12 noon**\n",
    "\n"
   ]
  },
  {
   "cell_type": "markdown",
   "metadata": {},
   "source": [
    "## [Chapter 6.1-6.4](http://greenteapress.com/thinkpython2/html/thinkpython2007.html)\n",
    "\n",
    "Note: the exercise numbers below match up with the reading for ease of cross referencing."
   ]
  },
  {
   "cell_type": "markdown",
   "metadata": {},
   "source": [
    "**Quick check:** What is a _fruitful function_?"
   ]
  },
  {
   "cell_type": "raw",
   "metadata": {},
   "source": [
    "A fruitful function is when it generates a result, like how when a mathematical operation has a yield."
   ]
  },
  {
   "cell_type": "markdown",
   "metadata": {},
   "source": [
    "### Chapter 6.1 \n",
    "Write a `compare` function that returns `1` if `x > y`, `0` if `x == y`, and `-1` if `x < y`."
   ]
  },
  {
   "cell_type": "code",
   "execution_count": 6,
   "metadata": {
    "collapsed": false
   },
   "outputs": [
    {
     "data": {
      "text/plain": [
       "1"
      ]
     },
     "execution_count": 6,
     "metadata": {},
     "output_type": "execute_result"
    }
   ],
   "source": [
    "def compare(x, y):\n",
    "    if x > y:\n",
    "        return (1)\n",
    "    elif x ==y:\n",
    "        return (0)\n",
    "    else:\n",
    "        return (-1)\n",
    "    \n",
    "compare(1,0)"
   ]
  },
  {
   "cell_type": "markdown",
   "metadata": {},
   "source": [
    "**Quick check:** Modify the `absolute_value` function so that it returns the correct result for all integer inputs."
   ]
  },
  {
   "cell_type": "code",
   "execution_count": 9,
   "metadata": {
    "collapsed": false
   },
   "outputs": [
    {
     "data": {
      "text/plain": [
       "0"
      ]
     },
     "execution_count": 9,
     "metadata": {},
     "output_type": "execute_result"
    }
   ],
   "source": [
    "def absolute_value(x):\n",
    "    if x < 0:\n",
    "        return -x\n",
    "    elif x > 0:\n",
    "        return x\n",
    "    else:\n",
    "        return 0\n",
    "    \n",
    "absolute_value(0)"
   ]
  },
  {
   "cell_type": "markdown",
   "metadata": {},
   "source": [
    "### Chapter 6.2 \n",
    "Use incremental development to write a function called `hypotenuse` that returns the length of the hypotenuse of a right triangle given the lengths of the two legs as arguments. Record each stage of the development process as you go, using as many cells as you need."
   ]
  },
  {
   "cell_type": "code",
   "execution_count": 12,
   "metadata": {
    "collapsed": false
   },
   "outputs": [
    {
     "data": {
      "text/plain": [
       "13.0"
      ]
     },
     "execution_count": 12,
     "metadata": {},
     "output_type": "execute_result"
    }
   ],
   "source": [
    "def hypotenuse(a,b):\n",
    "    step = a**2 + b**2\n",
    "    hyp = (step)**0.5\n",
    "    return hyp\n",
    "hypotenuse(5,12)"
   ]
  },
  {
   "cell_type": "markdown",
   "metadata": {},
   "source": [
    "### Chapter 6.4\n",
    "Write a function `is_between(x, y, z)` that returns `True` if `x ≤ y ≤ z` or `False` otherwise."
   ]
  },
  {
   "cell_type": "code",
   "execution_count": 15,
   "metadata": {
    "collapsed": false
   },
   "outputs": [
    {
     "data": {
      "text/plain": [
       "False"
      ]
     },
     "execution_count": 15,
     "metadata": {},
     "output_type": "execute_result"
    }
   ],
   "source": [
    "def is_between(x,y,z):\n",
    "    if x<=y and y<=z:\n",
    "        return True\n",
    "    else:\n",
    "        return False\n",
    "    \n",
    "is_between(1,9,7)"
   ]
  },
  {
   "cell_type": "markdown",
   "metadata": {},
   "source": [
    "## [Chapter 7](http://greenteapress.com/thinkpython2/html/thinkpython2008.html)\n",
    "\n"
   ]
  },
  {
   "cell_type": "markdown",
   "metadata": {},
   "source": [
    "**Quick check:** How do you test for equality in Python?"
   ]
  },
  {
   "cell_type": "raw",
   "metadata": {},
   "source": [
    "I don't know. Double equal signs?"
   ]
  },
  {
   "cell_type": "markdown",
   "metadata": {},
   "source": [
    " "
   ]
  },
  {
   "cell_type": "markdown",
   "metadata": {},
   "source": [
    "**Challenge:** Prove/disprove the Collatz conjecture :)"
   ]
  },
  {
   "cell_type": "code",
   "execution_count": 2,
   "metadata": {
    "collapsed": false
   },
   "outputs": [
    {
     "name": "stdout",
     "output_type": "stream",
     "text": [
      "5785125578296\n",
      "2892562789148.0\n",
      "1446281394574.0\n",
      "723140697287.0\n",
      "2169422091862.0\n",
      "1084711045931.0\n",
      "3254133137794.0\n",
      "1627066568897.0\n",
      "4881199706692.0\n",
      "2440599853346.0\n",
      "1220299926673.0\n",
      "3660899780020.0\n",
      "1830449890010.0\n",
      "915224945005.0\n",
      "2745674835016.0\n",
      "1372837417508.0\n",
      "686418708754.0\n",
      "343209354377.0\n",
      "1029628063132.0\n",
      "514814031566.0\n",
      "257407015783.0\n",
      "772221047350.0\n",
      "386110523675.0\n",
      "1158331571026.0\n",
      "579165785513.0\n",
      "1737497356540.0\n",
      "868748678270.0\n",
      "434374339135.0\n",
      "1303123017406.0\n",
      "651561508703.0\n",
      "1954684526110.0\n",
      "977342263055.0\n",
      "2932026789166.0\n",
      "1466013394583.0\n",
      "4398040183750.0\n",
      "2199020091875.0\n",
      "6597060275626.0\n",
      "3298530137813.0\n",
      "9895590413440.0\n",
      "4947795206720.0\n",
      "2473897603360.0\n",
      "1236948801680.0\n",
      "618474400840.0\n",
      "309237200420.0\n",
      "154618600210.0\n",
      "77309300105.0\n",
      "231927900316.0\n",
      "115963950158.0\n",
      "57981975079.0\n",
      "173945925238.0\n",
      "86972962619.0\n",
      "260918887858.0\n",
      "130459443929.0\n",
      "391378331788.0\n",
      "195689165894.0\n",
      "97844582947.0\n",
      "293533748842.0\n",
      "146766874421.0\n",
      "440300623264.0\n",
      "220150311632.0\n",
      "110075155816.0\n",
      "55037577908.0\n",
      "27518788954.0\n",
      "13759394477.0\n",
      "41278183432.0\n",
      "20639091716.0\n",
      "10319545858.0\n",
      "5159772929.0\n",
      "15479318788.0\n",
      "7739659394.0\n",
      "3869829697.0\n",
      "11609489092.0\n",
      "5804744546.0\n",
      "2902372273.0\n",
      "8707116820.0\n",
      "4353558410.0\n",
      "2176779205.0\n",
      "6530337616.0\n",
      "3265168808.0\n",
      "1632584404.0\n",
      "816292202.0\n",
      "408146101.0\n",
      "1224438304.0\n",
      "612219152.0\n",
      "306109576.0\n",
      "153054788.0\n",
      "76527394.0\n",
      "38263697.0\n",
      "114791092.0\n",
      "57395546.0\n",
      "28697773.0\n",
      "86093320.0\n",
      "43046660.0\n",
      "21523330.0\n",
      "10761665.0\n",
      "32284996.0\n",
      "16142498.0\n",
      "8071249.0\n",
      "24213748.0\n",
      "12106874.0\n",
      "6053437.0\n",
      "18160312.0\n",
      "9080156.0\n",
      "4540078.0\n",
      "2270039.0\n",
      "6810118.0\n",
      "3405059.0\n",
      "10215178.0\n",
      "5107589.0\n",
      "15322768.0\n",
      "7661384.0\n",
      "3830692.0\n",
      "1915346.0\n",
      "957673.0\n",
      "2873020.0\n",
      "1436510.0\n",
      "718255.0\n",
      "2154766.0\n",
      "1077383.0\n",
      "3232150.0\n",
      "1616075.0\n",
      "4848226.0\n",
      "2424113.0\n",
      "7272340.0\n",
      "3636170.0\n",
      "1818085.0\n",
      "5454256.0\n",
      "2727128.0\n",
      "1363564.0\n",
      "681782.0\n",
      "340891.0\n",
      "1022674.0\n",
      "511337.0\n",
      "1534012.0\n",
      "767006.0\n",
      "383503.0\n",
      "1150510.0\n",
      "575255.0\n",
      "1725766.0\n",
      "862883.0\n",
      "2588650.0\n",
      "1294325.0\n",
      "3882976.0\n",
      "1941488.0\n",
      "970744.0\n",
      "485372.0\n",
      "242686.0\n",
      "121343.0\n",
      "364030.0\n",
      "182015.0\n",
      "546046.0\n",
      "273023.0\n",
      "819070.0\n",
      "409535.0\n",
      "1228606.0\n",
      "614303.0\n",
      "1842910.0\n",
      "921455.0\n",
      "2764366.0\n",
      "1382183.0\n",
      "4146550.0\n",
      "2073275.0\n",
      "6219826.0\n",
      "3109913.0\n",
      "9329740.0\n",
      "4664870.0\n",
      "2332435.0\n",
      "6997306.0\n",
      "3498653.0\n",
      "10495960.0\n",
      "5247980.0\n",
      "2623990.0\n",
      "1311995.0\n",
      "3935986.0\n",
      "1967993.0\n",
      "5903980.0\n",
      "2951990.0\n",
      "1475995.0\n",
      "4427986.0\n",
      "2213993.0\n",
      "6641980.0\n",
      "3320990.0\n",
      "1660495.0\n",
      "4981486.0\n",
      "2490743.0\n",
      "7472230.0\n",
      "3736115.0\n",
      "11208346.0\n",
      "5604173.0\n",
      "16812520.0\n",
      "8406260.0\n",
      "4203130.0\n",
      "2101565.0\n",
      "6304696.0\n",
      "3152348.0\n",
      "1576174.0\n",
      "788087.0\n",
      "2364262.0\n",
      "1182131.0\n",
      "3546394.0\n",
      "1773197.0\n",
      "5319592.0\n",
      "2659796.0\n",
      "1329898.0\n",
      "664949.0\n",
      "1994848.0\n",
      "997424.0\n",
      "498712.0\n",
      "249356.0\n",
      "124678.0\n",
      "62339.0\n",
      "187018.0\n",
      "93509.0\n",
      "280528.0\n",
      "140264.0\n",
      "70132.0\n",
      "35066.0\n",
      "17533.0\n",
      "52600.0\n",
      "26300.0\n",
      "13150.0\n",
      "6575.0\n",
      "19726.0\n",
      "9863.0\n",
      "29590.0\n",
      "14795.0\n",
      "44386.0\n",
      "22193.0\n",
      "66580.0\n",
      "33290.0\n",
      "16645.0\n",
      "49936.0\n",
      "24968.0\n",
      "12484.0\n",
      "6242.0\n",
      "3121.0\n",
      "9364.0\n",
      "4682.0\n",
      "2341.0\n",
      "7024.0\n",
      "3512.0\n",
      "1756.0\n",
      "878.0\n",
      "439.0\n",
      "1318.0\n",
      "659.0\n",
      "1978.0\n",
      "989.0\n",
      "2968.0\n",
      "1484.0\n",
      "742.0\n",
      "371.0\n",
      "1114.0\n",
      "557.0\n",
      "1672.0\n",
      "836.0\n",
      "418.0\n",
      "209.0\n",
      "628.0\n",
      "314.0\n",
      "157.0\n",
      "472.0\n",
      "236.0\n",
      "118.0\n",
      "59.0\n",
      "178.0\n",
      "89.0\n",
      "268.0\n",
      "134.0\n",
      "67.0\n",
      "202.0\n",
      "101.0\n",
      "304.0\n",
      "152.0\n",
      "76.0\n",
      "38.0\n",
      "19.0\n",
      "58.0\n",
      "29.0\n",
      "88.0\n",
      "44.0\n",
      "22.0\n",
      "11.0\n",
      "34.0\n",
      "17.0\n",
      "52.0\n",
      "26.0\n",
      "13.0\n",
      "40.0\n",
      "20.0\n",
      "10.0\n",
      "5.0\n",
      "16.0\n",
      "8.0\n",
      "4.0\n",
      "2.0\n",
      "1.0\n"
     ]
    },
    {
     "data": {
      "text/plain": [
       "'x=1 --> Conjecture Proved!'"
      ]
     },
     "execution_count": 2,
     "metadata": {},
     "output_type": "execute_result"
    }
   ],
   "source": [
    "def Collatz(x):\n",
    "    while x!=1:\n",
    "        if x%2==0:\n",
    "            x = x/2\n",
    "            print (x)\n",
    "        else:\n",
    "            x = 3*x +1\n",
    "            print (x)\n",
    "    return 'x=1 --> Conjecture Proved!'\n",
    "Collatz(1928375192765)\n"
   ]
  },
  {
   "cell_type": "markdown",
   "metadata": {},
   "source": []
  },
  {
   "cell_type": "markdown",
   "metadata": {},
   "source": [
    "### Chapter 7.5\n",
    "Encapsulate the loop from Section 7.5 in a function called `square_root` that takes `a` as a parameter, chooses a reasonable value of `x`, and returns an estimate of the square root of `a`."
   ]
  },
  {
   "cell_type": "code",
   "execution_count": 3,
   "metadata": {
    "collapsed": false
   },
   "outputs": [
    {
     "name": "stdout",
     "output_type": "stream",
     "text": [
      "9\n",
      "5.0\n",
      "5.0\n",
      "3.4\n",
      "3.4\n",
      "3.023529411764706\n",
      "3.023529411764706\n",
      "3.00009155413138\n",
      "3.00009155413138\n",
      "3.000000001396984\n",
      "3.000000001396984\n"
     ]
    },
    {
     "data": {
      "text/plain": [
       "3.0"
      ]
     },
     "execution_count": 3,
     "metadata": {},
     "output_type": "execute_result"
    }
   ],
   "source": [
    "def square_root(a):\n",
    "    x = a\n",
    "    epsilon = 1e-6\n",
    "    while True:\n",
    "        print (x)\n",
    "        y = (x + (a/x)) / 2\n",
    "        if abs(y-x) < epsilon:\n",
    "            return y\n",
    "        x = y\n",
    "        print (y)\n",
    "\n",
    "square_root(9)"
   ]
  },
  {
   "cell_type": "markdown",
   "metadata": {},
   "source": [
    "### Exercise 7.1  \n",
    "To test the square root algorithm you developed in Exercise 2, you could compare it with Python's `math.sqrt` function. Write a function named `test_square_root` that prints a table like this:\n",
    "\n",
    "```python\n",
    "1.0 1.0           1.0           0.0\n",
    "2.0 1.41421356237 1.41421356237 2.22044604925e-16\n",
    "3.0 1.73205080757 1.73205080757 0.0\n",
    "4.0 2.0           2.0           0.0\n",
    "5.0 2.2360679775  2.2360679775  0.0\n",
    "6.0 2.44948974278 2.44948974278 0.0\n",
    "7.0 2.64575131106 2.64575131106 0.0\n",
    "8.0 2.82842712475 2.82842712475 4.4408920985e-16\n",
    "9.0 3.0           3.0           0.0\n",
    "```\n",
    "\n",
    "The first column is a number, `a`; the second column is the square root of a computed with the function from Section 7.5; the third column is the square root computed by `math.sqrt`; the fourth column is the absolute value of the difference between the two estimates."
   ]
  },
  {
   "cell_type": "code",
   "execution_count": 1,
   "metadata": {
    "collapsed": false
   },
   "outputs": [],
   "source": [
    "def test_square_root(a):\n",
    "    x = a\n",
    "    while True:\n",
    "        y = (x + (a/x)) / 2\n",
    "        if y == x:\n",
    "            return y\n",
    "        x = y"
   ]
  },
  {
   "cell_type": "code",
   "execution_count": 2,
   "metadata": {
    "collapsed": false
   },
   "outputs": [
    {
     "name": "stdout",
     "output_type": "stream",
     "text": [
      "1 1.0 1.0 0.0\n",
      "2 1.4142135623730951 1.414213562373095 2.220446049250313e-16\n",
      "3 1.7320508075688772 1.7320508075688772 0.0\n",
      "4 2.0 2.0 0.0\n",
      "5 2.23606797749979 2.23606797749979 0.0\n",
      "6 2.449489742783178 2.449489742783178 0.0\n",
      "7 2.6457513110645907 2.6457513110645907 0.0\n",
      "8 2.8284271247461903 2.82842712474619 4.440892098500626e-16\n",
      "9 3.0 3.0 0.0\n"
     ]
    }
   ],
   "source": [
    "import math\n",
    "a=1\n",
    "print(a, math.sqrt(a), test_square_root(a), abs(math.sqrt(a)-test_square_root(a)))\n",
    "a=2\n",
    "print(a, math.sqrt(a), test_square_root(a), abs(math.sqrt(a)-test_square_root(a)))\n",
    "a=3\n",
    "print(a, math.sqrt(a), test_square_root(a), abs(math.sqrt(a)-test_square_root(a)))\n",
    "a=4\n",
    "print(a, math.sqrt(a), test_square_root(a), abs(math.sqrt(a)-test_square_root(a)))\n",
    "a=5\n",
    "print(a, math.sqrt(a), test_square_root(a), abs(math.sqrt(a)-test_square_root(a)))\n",
    "a=6\n",
    "print(a, math.sqrt(a), test_square_root(a), abs(math.sqrt(a)-test_square_root(a)))\n",
    "a=7\n",
    "print(a, math.sqrt(a), test_square_root(a), abs(math.sqrt(a)-test_square_root(a)))\n",
    "a=8\n",
    "print(a, math.sqrt(a), test_square_root(a), abs(math.sqrt(a)-test_square_root(a)))\n",
    "a=9\n",
    "print(a, math.sqrt(a), test_square_root(a), abs(math.sqrt(a)-test_square_root(a)))"
   ]
  },
  {
   "cell_type": "markdown",
   "metadata": {},
   "source": [
    "### Challenge: Exercise 7.3  (optional)\n",
    "The mathematician Srinivasa Ramanujan found an infinite series that can be used to generate a numerical approximation of\n",
    "$\\frac{1}{\\pi}$:\n",
    "\n",
    "$$\\frac{1}{\\pi} = \\frac{2 \\sqrt{2}}{9801} \\sum_{k=0}^{\\infty} \\frac{(4k)! (1103+26390k)}{(k!)^4 396^{4k}}$$\n",
    " \n",
    "Write a function called `estimate_pi` that uses this formula to compute and return an estimate of $\\pi$. It should use a `while` loop to compute terms of the summation until the last term is smaller than `1e-15` (which is Python notation for $10^{−15}$). You can check the result by comparing it to `math.pi`.\n",
    "\n",
    "[Possible solution](http://thinkpython.com/code/pi.py) (give the exercise a try before viewing the solution)"
   ]
  },
  {
   "cell_type": "code",
   "execution_count": 3,
   "metadata": {
    "collapsed": false
   },
   "outputs": [
    {
     "ename": "KeyboardInterrupt",
     "evalue": "",
     "output_type": "error",
     "traceback": [
      "\u001b[0;31m---------------------------------------------------------------------------\u001b[0m",
      "\u001b[0;31mKeyboardInterrupt\u001b[0m                         Traceback (most recent call last)",
      "\u001b[0;32m<ipython-input-3-5531bd391cd4>\u001b[0m in \u001b[0;36m<module>\u001b[0;34m()\u001b[0m\n\u001b[1;32m     16\u001b[0m     \u001b[0mprint\u001b[0m \u001b[0;34m(\u001b[0m\u001b[0mnew\u001b[0m\u001b[0;34m)\u001b[0m\u001b[0;34m\u001b[0m\u001b[0m\n\u001b[1;32m     17\u001b[0m \u001b[0;34m\u001b[0m\u001b[0m\n\u001b[0;32m---> 18\u001b[0;31m \u001b[0mestimate_pi\u001b[0m\u001b[0;34m(\u001b[0m\u001b[0;34m)\u001b[0m\u001b[0;34m\u001b[0m\u001b[0m\n\u001b[0m",
      "\u001b[0;32m<ipython-input-3-5531bd391cd4>\u001b[0m in \u001b[0;36mestimate_pi\u001b[0;34m()\u001b[0m\n\u001b[1;32m      9\u001b[0m \u001b[0;34m\u001b[0m\u001b[0m\n\u001b[1;32m     10\u001b[0m     \u001b[0;32mwhile\u001b[0m \u001b[0;32mTrue\u001b[0m\u001b[0;34m:\u001b[0m\u001b[0;34m\u001b[0m\u001b[0m\n\u001b[0;32m---> 11\u001b[0;31m         \u001b[0mnew\u001b[0m \u001b[0;34m=\u001b[0m \u001b[0mnew\u001b[0m \u001b[0;34m+\u001b[0m \u001b[0;34m(\u001b[0m\u001b[0mfactorial\u001b[0m\u001b[0;34m(\u001b[0m\u001b[0;36m4\u001b[0m\u001b[0;34m*\u001b[0m\u001b[0mk\u001b[0m\u001b[0;34m)\u001b[0m \u001b[0;34m*\u001b[0m \u001b[0;34m(\u001b[0m\u001b[0;36m1103\u001b[0m \u001b[0;34m+\u001b[0m \u001b[0;36m26390\u001b[0m \u001b[0;34m*\u001b[0m \u001b[0mk\u001b[0m\u001b[0;34m)\u001b[0m\u001b[0;34m)\u001b[0m\u001b[0;34m/\u001b[0m\u001b[0;34m(\u001b[0m\u001b[0;34m(\u001b[0m\u001b[0mfactorial\u001b[0m\u001b[0;34m(\u001b[0m\u001b[0mk\u001b[0m\u001b[0;34m)\u001b[0m\u001b[0;34m**\u001b[0m\u001b[0;36m4\u001b[0m\u001b[0;34m)\u001b[0m\u001b[0;34m*\u001b[0m\u001b[0;36m396\u001b[0m\u001b[0;34m**\u001b[0m\u001b[0;34m(\u001b[0m\u001b[0;36m4\u001b[0m\u001b[0;34m*\u001b[0m\u001b[0mk\u001b[0m\u001b[0;34m)\u001b[0m\u001b[0;34m)\u001b[0m\u001b[0;34m\u001b[0m\u001b[0m\n\u001b[0m\u001b[1;32m     12\u001b[0m         \u001b[0mk\u001b[0m \u001b[0;34m=\u001b[0m \u001b[0mk\u001b[0m \u001b[0;34m+\u001b[0m \u001b[0;36m1\u001b[0m\u001b[0;34m\u001b[0m\u001b[0m\n\u001b[1;32m     13\u001b[0m \u001b[0;34m\u001b[0m\u001b[0m\n",
      "\u001b[0;31mKeyboardInterrupt\u001b[0m: "
     ]
    }
   ],
   "source": [
    "def estimate_pi():\n",
    "    \n",
    "    from math import sqrt\n",
    "    from math import pi\n",
    "    from math import factorial\n",
    "    \n",
    "    k=0\n",
    "    sumpi = 0\n",
    "     \n",
    "    while True:\n",
    "        sumpi = sumpi + (factorial(4*k) * (1103 + 26390 * k))/((factorial(k)**4)*396**(4*k))\n",
    "        k = k + 1\n",
    "        \n",
    "        if sumpi * (9801 / 2 /sqrt(2)) < (10**(-15)):\n",
    "            break\n",
    "    print (sumpi)\n",
    "\n",
    "estimate_pi()"
   ]
  },
  {
   "cell_type": "markdown",
   "metadata": {},
   "source": [
    "## Quick poll\n",
    "\n",
    "About how long did you spend working on this Reading Journal?"
   ]
  },
  {
   "cell_type": "markdown",
   "metadata": {},
   "source": []
  },
  {
   "cell_type": "markdown",
   "metadata": {},
   "source": [
    "## Reading Journal feedback\n",
    "\n",
    "Have any comments on this Reading Journal? Feel free to leave them below and we'll read them when you submit your journal entry. This could include suggestions to improve the exercises, topics you'd like to see covered in class next time, or other feedback.\n",
    "\n",
    "If you have Python questions or run into problems while completing the reading, you should post them to Piazza instead so you can get a quick response before your journal is submitted."
   ]
  },
  {
   "cell_type": "markdown",
   "metadata": {},
   "source": []
  },
  {
   "cell_type": "markdown",
   "metadata": {},
   "source": [
    " "
   ]
  }
 ],
 "metadata": {
  "kernelspec": {
   "display_name": "Python 3",
   "language": "python",
   "name": "python3"
  },
  "language_info": {
   "codemirror_mode": {
    "name": "ipython",
    "version": 3
   },
   "file_extension": ".py",
   "mimetype": "text/x-python",
   "name": "python",
   "nbconvert_exporter": "python",
   "pygments_lexer": "ipython3",
   "version": "3.5.2"
  }
 },
 "nbformat": 4,
 "nbformat_minor": 0
}
