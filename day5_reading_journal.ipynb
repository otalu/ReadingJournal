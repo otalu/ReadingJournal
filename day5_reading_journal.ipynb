{
 "cells": [
  {
   "cell_type": "markdown",
   "metadata": {},
   "source": [
    "# Day 5 Reading Journal\n",
    "\n",
    "This journal includes several required exercises, but it is meant to encourage active reading more generally.  You should use the journal to take detailed notes, catalog questions, and explore the content from Think Python deeply.\n",
    "\n",
    "Reading: Think Python Chapter 4\n",
    "\n",
    "**Due: Thursday, February 2 at 12 noon**\n",
    "\n"
   ]
  },
  {
   "cell_type": "markdown",
   "metadata": {},
   "source": [
    "## [Chapter 4](http://www.greenteapress.com/thinkpython2/html/thinkpython2005.html)\n",
    "\n",
    "In today's reading, you will be exploring the turtle module, which allows you to create images using turtle graphics. The turtle module is included in most Python installations, and you did a quick test with it during the Get Set assignment.\n",
    "\n",
    "### Turtle wrangling\n",
    "\n",
    "You can always run your code as separate Python scripts, but here are a few tips for mixing Turtle with Jupyter notebook:\n",
    "\n",
    " - Turtle will appear in a new GUI window, rather than inline in the notebook like typical results do\n",
    " - You will not be able to close the Turtle window unless you run `turtle.mainloop()` as the last line of your code."
   ]
  },
  {
   "cell_type": "markdown",
   "metadata": {},
   "source": [
    "### Get started\n",
    "\n",
    "Run the code in the cell below and make sure everything works. You should see brave Bob spring into the world and run forward. You can close the window when you're done by clicking on the 'X'. If this simple test doesn't work, check your Python3 install (especially if you get an `ImportError`) and ask for help."
   ]
  },
  {
   "cell_type": "code",
   "execution_count": 1,
   "metadata": {
    "collapsed": false
   },
   "outputs": [],
   "source": [
    "import turtle\n",
    "\n",
    "# Create the world, and a turtle to put in it\n",
    "bob = turtle.Turtle()\n",
    "\n",
    "# Get moving, turtle!\n",
    "bob.fd(100)\n",
    "\n",
    "# Wait for the user to close the window\n",
    "turtle.mainloop()"
   ]
  },
  {
   "cell_type": "markdown",
   "metadata": {
    "is_question": true,
    "problem": "Section 4.3"
   },
   "source": [
    "### Chapter 4.3\n",
    "Work through exercises 1-5 in Chapter 4.3, creating the `square`, `polygon`, `circle`, and `arc` functions. You can reference Allen's solutions, but please try the problems on your own first."
   ]
  },
  {
   "cell_type": "code",
   "execution_count": 3,
   "metadata": {
    "collapsed": false
   },
   "outputs": [
    {
     "name": "stdout",
     "output_type": "stream",
     "text": [
      "<turtle.Turtle object at 0x7fb0043b38d0>\n"
     ]
    }
   ],
   "source": [
    "import turtle\n",
    "def square():\n",
    "    bob = turtle.Turtle()\n",
    "    for i in range(4):\n",
    "        bob.fd(100)\n",
    "        bob.lt(90)\n",
    "    print(bob)\n",
    "\n",
    "square(bob)\n",
    "turtle.mainloop()"
   ]
  },
  {
   "cell_type": "code",
   "execution_count": 1,
   "metadata": {
    "collapsed": false,
    "solution": "More fun"
   },
   "outputs": [],
   "source": [
    "import turtle\n",
    "\n",
    "def polygon(n, length):\n",
    "    bob = turtle.Turtle()\n",
    "    angle = 360 / n\n",
    "    for i in range(n):\n",
    "        bob.fd(length)\n",
    "        bob.lt(angle)\n",
    "    \n",
    "polygon(6, 100)\n",
    "turtle.mainloop()"
   ]
  },
  {
   "cell_type": "code",
   "execution_count": 1,
   "metadata": {
    "collapsed": false
   },
   "outputs": [],
   "source": [
    "from math import pi\n",
    "\n",
    "import turtle\n",
    "\n",
    "def polygon(n, length):\n",
    "    bob = turtle.Turtle()\n",
    "    angle = 360 / n\n",
    "    for i in range(n):\n",
    "        bob.fd(length)\n",
    "        bob.lt(angle)\n",
    "        \n",
    "def circle(r, n):\n",
    "    circumference = 2 * pi * r\n",
    "    length = circumference / n\n",
    "    polygon(n, length)\n",
    "\n",
    "circle(5,100)\n",
    "turtle.mainloop()"
   ]
  },
  {
   "cell_type": "code",
   "execution_count": 1,
   "metadata": {
    "collapsed": false
   },
   "outputs": [
    {
     "name": "stdout",
     "output_type": "stream",
     "text": [
      "<turtle.Turtle object at 0x7fb8b0331518>\n"
     ]
    }
   ],
   "source": [
    "import turtle\n",
    "from math import pi\n",
    "bob = turtle.Turtle()\n",
    "\n",
    "\n",
    "def arc(bob, r, angle):\n",
    "    arc_length = 2 * pi * r * angle / 360\n",
    "    n = int(arc_length / 3) + 1\n",
    "    step_length = arc_length/n\n",
    "    step_angle = angle/n\n",
    "    polyline(bob, n, step_length, step_angle)\n",
    "\n",
    "\n",
    "def polyline(bob, n, length, angle):\n",
    "    for i in range(n):\n",
    "        bob.fd(length)\n",
    "        bob.lt(angle)\n",
    "    print(bob)\n",
    "\n",
    "\n",
    "arc(bob, 100, 360)\n",
    "turtle.mainloop()"
   ]
  },
  {
   "cell_type": "markdown",
   "metadata": {
    "is_question": true,
    "problem": "Section 4.3"
   },
   "source": [
    "### Chapter 4.12\n",
    "More fun with Turtles!\n",
    "\n",
    "Complete at least one of Exercise 2, 3, 4, or 5. If you come up with some cool drawings you'd like to share with the rest of the class, let us know"
   ]
  },
  {
   "cell_type": "code",
   "execution_count": null,
   "metadata": {
    "collapsed": true
   },
   "outputs": [],
   "source": []
  },
  {
   "cell_type": "markdown",
   "metadata": {},
   "source": [
    "## Reading Journal feedback\n",
    "\n",
    "[Please complete this short survey](https://docs.google.com/forms/d/e/1FAIpQLScQekhUrf6YYjpfQiAAbavLIA-IJklv_PX1BWbGgxj7JPolmw/viewform?c=0&w=1)\n",
    "\n",
    "If you have any comments on this Reading Journal, feel free to leave them in the survey linked above. This could include suggestions to improve the exercises, topics you'd like to see covered in class next time, or other feedback.\n",
    "\n",
    "If you have Python questions or run into problems while completing the reading, you should post them to Piazza instead so you can get a quick response before your journal is submitted."
   ]
  },
  {
   "cell_type": "markdown",
   "metadata": {},
   "source": [
    " "
   ]
  }
 ],
 "metadata": {
  "kernelspec": {
   "display_name": "Python 3",
   "language": "python",
   "name": "python3"
  },
  "language_info": {
   "codemirror_mode": {
    "name": "ipython",
    "version": 3
   },
   "file_extension": ".py",
   "mimetype": "text/x-python",
   "name": "python",
   "nbconvert_exporter": "python",
   "pygments_lexer": "ipython3",
   "version": "3.5.2"
  }
 },
 "nbformat": 4,
 "nbformat_minor": 0
}
